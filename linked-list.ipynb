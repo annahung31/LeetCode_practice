{
 "cells": [
  {
   "cell_type": "code",
   "execution_count": 2,
   "metadata": {},
   "outputs": [],
   "source": [
    "### Reference: [Reverse a linked list](https://www.geeksforgeeks.org/reverse-a-linked-list/)\n",
    "### LeetCode: [206: reverse linked list](https://leetcode.com/problems/reverse-linked-list/)"
   ]
  },
  {
   "cell_type": "markdown",
   "metadata": {},
   "source": [
    "### Iterative:\n",
    "1. 記住下一個是誰\n",
    "2. 把箭頭轉向 prev\n",
    "3. 移動 prev 到下一個位置\n",
    "4. 持續 1-3，直到最後\n",
    "5. 把 head 改到最後"
   ]
  },
  {
   "cell_type": "code",
   "execution_count": 6,
   "metadata": {},
   "outputs": [],
   "source": [
    "# Definition for singly-linked list.\n",
    "class ListNode:\n",
    "     def __init__(self, val=0, next=None):\n",
    "         self.val = val\n",
    "         self.next = next\n",
    "class Solution:\n",
    "    def reverseList(self, head: ListNode) -> ListNode:\n",
    "        prev = None\n",
    "        current = head\n",
    "        while current is not None:\n",
    "            next = current.next\n",
    "            current.next = prev\n",
    "            prev = current\n",
    "            current = next\n",
    "        \n",
    "        head = prev\n",
    "        return head\n",
    "        "
   ]
  },
  {
   "cell_type": "markdown",
   "metadata": {},
   "source": [
    "### Recursive:\n",
    "A->(B.....)\n",
    "A 是 first, B 以後的都是 rest\n",
    "1. recursive 處理 rest\n",
    "2. 把 B 的箭頭指向 A\n",
    "3. 把 A 指向 B 的箭頭取消\n",
    "\n",
    "* 要注意邊界條件：當 head == None 或 head.next == None 時，直接返回 head"
   ]
  },
  {
   "cell_type": "code",
   "execution_count": 7,
   "metadata": {},
   "outputs": [],
   "source": [
    "# Definition for singly-linked list.\n",
    "class ListNode:\n",
    "     def __init__(self, val=0, next=None):\n",
    "         self.val = val\n",
    "         self.next = next\n",
    "class Solution:\n",
    "    def reverseList(self, head: ListNode) -> ListNode:\n",
    "            \n",
    "        if head is None or head.next is None:\n",
    "            return head\n",
    "            \n",
    "        rest = self.reverseList(head.next)    \n",
    "        head.next.next = head\n",
    "        head.next = None\n",
    "            \n",
    "        return rest\n",
    "        "
   ]
  },
  {
   "cell_type": "code",
   "execution_count": null,
   "metadata": {},
   "outputs": [],
   "source": []
  }
 ],
 "metadata": {
  "kernelspec": {
   "display_name": "Python 3",
   "language": "python",
   "name": "python3"
  },
  "language_info": {
   "codemirror_mode": {
    "name": "ipython",
    "version": 3
   },
   "file_extension": ".py",
   "mimetype": "text/x-python",
   "name": "python",
   "nbconvert_exporter": "python",
   "pygments_lexer": "ipython3",
   "version": "3.6.10"
  }
 },
 "nbformat": 4,
 "nbformat_minor": 4
}
