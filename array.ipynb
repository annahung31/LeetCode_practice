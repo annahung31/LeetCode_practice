{
 "cells": [
  {
   "cell_type": "code",
   "execution_count": null,
   "metadata": {},
   "outputs": [],
   "source": []
  },
  {
   "cell_type": "code",
   "execution_count": null,
   "metadata": {},
   "outputs": [],
   "source": []
  },
  {
   "cell_type": "markdown",
   "metadata": {},
   "source": [
    "### 202. Happy Number\n",
    "* 要注意 cycle! 例如：  \n",
    "\n",
    "<img src=img/array_1.png width=500x>\n",
    "* 會有 4 種情況：\n",
    "\n",
    "    1. 等於 1\n",
    "    2. 形成 cycle\n",
    "    3. 越來越大，變成無限大"
   ]
  },
  {
   "cell_type": "code",
   "execution_count": null,
   "metadata": {},
   "outputs": [],
   "source": [
    "class Solution:\n",
    "    def isHappy(self, n: int) -> bool:\n",
    "            \n",
    "        while n != 0:\n",
    "            if n == 1:\n",
    "                return True\n",
    "            if n <= 3:\n",
    "                return False\n",
    "            \n",
    "            n = str(n)\n",
    "        \n",
    "            n_sum = 0\n",
    "            for w in n:\n",
    "                n_sum += int(w) * int(w)\n",
    "            \n",
    "            n = n_sum"
   ]
  }
 ],
 "metadata": {
  "kernelspec": {
   "display_name": "Python 3",
   "language": "python",
   "name": "python3"
  },
  "language_info": {
   "codemirror_mode": {
    "name": "ipython",
    "version": 3
   },
   "file_extension": ".py",
   "mimetype": "text/x-python",
   "name": "python",
   "nbconvert_exporter": "python",
   "pygments_lexer": "ipython3",
   "version": "3.6.10"
  }
 },
 "nbformat": 4,
 "nbformat_minor": 4
}
