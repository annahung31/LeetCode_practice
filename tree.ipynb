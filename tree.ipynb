{
 "cells": [
  {
   "cell_type": "markdown",
   "metadata": {},
   "source": [
    "## Outline\n",
    "* [Traversals](#order)\n",
    "* [leetcode 101: Symmetric Tree](#101)\n",
    "* [Leetcode 104. Maximum Depth of Binary Tree](#104)\n"
   ]
  },
  {
   "cell_type": "markdown",
   "metadata": {},
   "source": [
    "<a id=\"order\"></a>\n",
    "### Traversals: inorder, preorder, postorder\n",
    "* 名字是根據 \"root 在哪裡\" 來命名：\n",
    "    - `inorder`: left, root, right (root 在裡面）\n",
    "    - `preorder`: root, left, right (root 在最前面）\n",
    "    - `postorder`: left, right, root (root 在最後面）"
   ]
  },
  {
   "cell_type": "markdown",
   "metadata": {},
   "source": [
    "<a id=\"101\"></a>\n",
    "### Leetcode 101. Symmetric Tree\n",
    "* 遞迴：對稱的話，左子樹和右子樹要對稱\n",
    "* iterative: 用 stack 存起來"
   ]
  },
  {
   "cell_type": "code",
   "execution_count": 7,
   "metadata": {},
   "outputs": [],
   "source": [
    "#recursive\n",
    "# Definition for a binary tree node.\n",
    "class TreeNode:\n",
    "     def __init__(self, val=0, left=None, right=None):\n",
    "         self.val = val\n",
    "         self.left = left\n",
    "         self.right = right\n",
    "class Solution:\n",
    "    def isSymmetric(self, root: TreeNode) -> bool:\n",
    "        def isMirror(t1, t2):\n",
    "            if t1 == None and t2 == None: return True\n",
    "            if t1 == None or t2 == None: return False\n",
    "            \n",
    "            return t1.val == t2.val and isMirror(t1.left, t2.right) and isMirror(t1.right, t2.left)\n",
    "        \n",
    "        return isMirror(root, root)\n",
    "            "
   ]
  },
  {
   "cell_type": "code",
   "execution_count": 8,
   "metadata": {},
   "outputs": [],
   "source": [
    "# iterative\n",
    "class Solution:\n",
    "    def isSymmetric(self, root: TreeNode) -> bool:\n",
    "        \n",
    "        if root is None:\n",
    "            return True\n",
    "        \n",
    "        stack = []\n",
    "        stack.append([root.left, root.right])\n",
    "        \n",
    "        while stack:\n",
    "            l, r = stack.pop()\n",
    "            \n",
    "            if l == None and r == None: continue\n",
    "            if l == None or r == None:\n",
    "                return False\n",
    "            if l.val == r.val:\n",
    "                stack.append([l.left, r.right])\n",
    "                stack.append([l.right, r.left])\n",
    "            else:\n",
    "                return False\n",
    "            \n",
    "        return True"
   ]
  },
  {
   "cell_type": "markdown",
   "metadata": {},
   "source": [
    "<a id=\"104\"></a>\n",
    "### Leetcode 104. Maximum Depth of Binary Tree\n",
    "* 仍然要善用遞迴，某一個 node 的深度 = 1 + max(左子樹深度, 右子樹深度)\n",
    "* iterative 的做法，則是紀錄每一個 node 的深度，並且一層一層往下更新直到盡頭"
   ]
  },
  {
   "cell_type": "code",
   "execution_count": 10,
   "metadata": {},
   "outputs": [],
   "source": [
    "# Definition for a binary tree node.\n",
    "# class TreeNode:\n",
    "#     def __init__(self, val=0, left=None, right=None):\n",
    "#         self.val = val\n",
    "#         self.left = left\n",
    "#         self.right = right\n",
    "class Solution:\n",
    "    def maxDepth(self, root: TreeNode) -> int:\n",
    "        \n",
    "        if root is None:\n",
    "            return 0\n",
    "                \n",
    "        else:\n",
    "            left_d = self.maxDepth(root.left)\n",
    "            right_d = self.maxDepth(root.right)\n",
    "            return 1 + max(left_d, right_d)\n",
    "                "
   ]
  },
  {
   "cell_type": "code",
   "execution_count": 11,
   "metadata": {},
   "outputs": [],
   "source": [
    "# iterative\n",
    "\n",
    "class Solution:\n",
    "    def maxDepth(self, root: TreeNode) -> int:\n",
    "        \n",
    "        stack = []\n",
    "        \n",
    "        if root is not None:\n",
    "            stack.append([1, root])\n",
    "        \n",
    "        \n",
    "        depth = 0\n",
    "        while stack != []:\n",
    "            cur, node = stack.pop()\n",
    "            if node is not None:\n",
    "                depth = max(depth, cur)\n",
    "                stack.append([cur+1, node.left])\n",
    "                stack.append([cur+1, node.right])\n",
    "                \n",
    "            \n",
    "        return depth   "
   ]
  },
  {
   "cell_type": "code",
   "execution_count": null,
   "metadata": {},
   "outputs": [],
   "source": []
  }
 ],
 "metadata": {
  "kernelspec": {
   "display_name": "Python 3",
   "language": "python",
   "name": "python3"
  },
  "language_info": {
   "codemirror_mode": {
    "name": "ipython",
    "version": 3
   },
   "file_extension": ".py",
   "mimetype": "text/x-python",
   "name": "python",
   "nbconvert_exporter": "python",
   "pygments_lexer": "ipython3",
   "version": "3.6.10"
  }
 },
 "nbformat": 4,
 "nbformat_minor": 4
}
