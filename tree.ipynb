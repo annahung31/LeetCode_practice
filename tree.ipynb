{
 "cells": [
  {
   "cell_type": "markdown",
   "metadata": {},
   "source": [
    "## Outline\n",
    "* [Traversals](#order)\n",
    "* [leetcode 101: Symmetric Tree](#101)\n",
    "* [Leetcode 104. Maximum Depth of Binary Tree](#104)\n",
    "* [Leetcode 110. Balanced Binary Tree](#110)\n",
    "* [Leetcode 98. Validate Binary Search Tree (Medium)](#98)"
   ]
  },
  {
   "cell_type": "markdown",
   "metadata": {},
   "source": [
    "<a id=\"order\"></a>\n",
    "### Traversals: inorder, preorder, postorder\n",
    "* 名字是根據 \"root 在哪裡\" 來命名：\n",
    "    - `inorder`: left, root, right (root 在裡面）\n",
    "    - `preorder`: root, left, right (root 在最前面）\n",
    "    - `postorder`: left, right, root (root 在最後面）"
   ]
  },
  {
   "cell_type": "markdown",
   "metadata": {},
   "source": [
    "<a id=\"101\"></a>\n",
    "### Leetcode 101. Symmetric Tree\n",
    "* 遞迴：對稱的話，左子樹和右子樹要對稱\n",
    "* iterative: 用 stack 存起來"
   ]
  },
  {
   "cell_type": "code",
   "execution_count": 7,
   "metadata": {},
   "outputs": [],
   "source": [
    "#recursive\n",
    "# Definition for a binary tree node.\n",
    "class TreeNode:\n",
    "     def __init__(self, val=0, left=None, right=None):\n",
    "         self.val = val\n",
    "         self.left = left\n",
    "         self.right = right\n",
    "class Solution:\n",
    "    def isSymmetric(self, root: TreeNode) -> bool:\n",
    "        def isMirror(t1, t2):\n",
    "            if t1 == None and t2 == None: return True\n",
    "            if t1 == None or t2 == None: return False\n",
    "            \n",
    "            return t1.val == t2.val and isMirror(t1.left, t2.right) and isMirror(t1.right, t2.left)\n",
    "        \n",
    "        return isMirror(root, root)\n",
    "            "
   ]
  },
  {
   "cell_type": "code",
   "execution_count": 8,
   "metadata": {},
   "outputs": [],
   "source": [
    "# iterative\n",
    "class Solution:\n",
    "    def isSymmetric(self, root: TreeNode) -> bool:\n",
    "        \n",
    "        if root is None:\n",
    "            return True\n",
    "        \n",
    "        stack = []\n",
    "        stack.append([root.left, root.right])\n",
    "        \n",
    "        while stack:\n",
    "            l, r = stack.pop()\n",
    "            \n",
    "            if l == None and r == None: continue\n",
    "            if l == None or r == None:\n",
    "                return False\n",
    "            if l.val == r.val:\n",
    "                stack.append([l.left, r.right])\n",
    "                stack.append([l.right, r.left])\n",
    "            else:\n",
    "                return False\n",
    "            \n",
    "        return True"
   ]
  },
  {
   "cell_type": "markdown",
   "metadata": {},
   "source": [
    "<a id=\"104\"></a>\n",
    "### Leetcode 104. Maximum Depth of Binary Tree\n",
    "* 仍然要善用遞迴，某一個 node 的深度 = 1 + max(左子樹深度, 右子樹深度)\n",
    "* iterative 的做法，則是紀錄每一個 node 的深度，並且一層一層往下更新直到盡頭"
   ]
  },
  {
   "cell_type": "code",
   "execution_count": 10,
   "metadata": {},
   "outputs": [],
   "source": [
    "# Definition for a binary tree node.\n",
    "# class TreeNode:\n",
    "#     def __init__(self, val=0, left=None, right=None):\n",
    "#         self.val = val\n",
    "#         self.left = left\n",
    "#         self.right = right\n",
    "class Solution:\n",
    "    def maxDepth(self, root: TreeNode) -> int:\n",
    "        \n",
    "        if root is None:\n",
    "            return 0\n",
    "                \n",
    "        else:\n",
    "            left_d = self.maxDepth(root.left)\n",
    "            right_d = self.maxDepth(root.right)\n",
    "            return 1 + max(left_d, right_d)\n",
    "                "
   ]
  },
  {
   "cell_type": "code",
   "execution_count": 11,
   "metadata": {},
   "outputs": [],
   "source": [
    "# iterative\n",
    "\n",
    "class Solution:\n",
    "    def maxDepth(self, root: TreeNode) -> int:\n",
    "        \n",
    "        stack = []\n",
    "        \n",
    "        if root is not None:\n",
    "            stack.append([1, root])\n",
    "        \n",
    "        \n",
    "        depth = 0\n",
    "        while stack != []:\n",
    "            cur, node = stack.pop()\n",
    "            if node is not None:\n",
    "                depth = max(depth, cur)\n",
    "                stack.append([cur+1, node.left])\n",
    "                stack.append([cur+1, node.right])\n",
    "                \n",
    "            \n",
    "        return depth   "
   ]
  },
  {
   "cell_type": "markdown",
   "metadata": {},
   "source": [
    "<a id=\"110\"></a>\n",
    "### Leetcode 110. Balanced Binary Tree\n",
    "* 遞迴，額外建一個 height 計算某個 node 的深度，再呼叫這個 height 來檢視是否 balanced。 注意 balanced 的條件是 **本身, 左子樹, 右子樹** 都要 balanced。\n",
    "* Top-down solution 的時間複雜度是 O(nlgn)，因為 height 會一直重複算。用 bottom up 比較好\n"
    "### 111. Minimum Depth of Binary Tree"
   ]
  },
  {
   "cell_type": "code",
   "execution_count": 3,
   "metadata": {},
   "outputs": [],
   "source": [
    "# Top down solution\n",
   "execution_count": 2,
   "metadata": {},
   "outputs": [],
   "source": [
    "class TreeNode:\n",
    "    def __init__(self, val=0, left=None, right=None):\n",
    "        self.val = val\n",
    "        self.left = left\n",
    "        self.right = right\n",
    "class Solution:\n",
    "    \n",
    "    def height(self, node):\n",
    "        if node is None:\n",
    "            return -1\n",
    "        else:\n",
    "            return 1 + max(self.height(node.left), self.height(node.right))\n",
    "    \n",
    "    def isBalanced(self, root: TreeNode) -> bool:\n",
    "        if root is None:\n",
    "            return True\n",
    "        \n",
    "        h_left = self.height(root.left)\n",
    "        h_right = self.height(root.right)\n",
    "        \n",
    "        return abs(h_left - h_right) <= 1 and self.isBalanced(root.left) and self.isBalanced(root.right)\n",
    "        "
   ]
  },
  {
   "cell_type": "code",
   "execution_count": 4,
   "metadata": {},
   "outputs": [],
   "source": [
    "#[TODO] bottom up"
   ]
  },
  {
   "cell_type": "markdown",
   "metadata": {},
   "source": [
    "<a id=\"98\"></a>\n",
    "### 98. Validate Binary Search Tree (Medium)\n",
    "A valid BST is defined as follows:\n",
    "* The left subtree of a node contains only nodes with keys less than the node's key.\n",
    "* The right subtree of a node contains only nodes with keys greater than the node's key.\n",
    "* Both the left and right subtrees must also be binary search trees.   \n",
    "作法：延續上面的 iterative 的做法，把 child 存進 stack 裡面，紀錄目前的 lower bound 和 upper bound，再 pop 出來檢查：  "
   ]
  },
  {
   "cell_type": "code",
   "execution_count": 2,
   "metadata": {},
   "outputs": [],
   "source": [
    "\n",
    "# Definition for a binary tree node.\n",
    "class TreeNode(object):\n",
    "    def __init__(self, val=0, left=None, right=None):\n",
    "        self.val = val\n",
    "        self.left = left\n",
    "        self.right = right\n",
    "class Solution(object):\n",
    "    def isValidBST(self, root):\n",
    "        \"\"\"\n",
    "        :type root: TreeNode\n",
    "        :rtype: bool\n",
    "        \"\"\"\n",
    "       \n",
    "        if not root:\n",
    "            return True\n",
    "        \n",
    "        stack = [(root, -math.inf, math.inf)]\n",
    "        \n",
    "        while stack:\n",
    "            ROOT, lower, upper = stack.pop()\n",
    "            if not ROOT:\n",
    "                continue\n",
    "            if ROOT.val >=  upper or ROOT.val <= lower:\n",
    "                return False\n",
    "            \n",
    "            stack.append((ROOT.left, lower, ROOT.val))\n",
    "            stack.append((ROOT.right, ROOT.val, upper))\n",
    "\n",
    "        return True\n",
    "        "
    "    def minDepth(self, root: TreeNode) -> int:\n",
    "        from collections import deque\n",
    "        \n",
    "        if root == None:\n",
    "            return 0\n",
    "        \n",
    "        queue = deque()\n",
    "        queue.append([root, 1])\n",
    "        min_dep = 0\n",
    "        \n",
    "        \n",
    "        while len(queue) != 0:\n",
    "            \n",
    "            node, cur_dep = queue.popleft()\n",
    "            min_dep = max(min_dep, cur_dep)\n",
    "            \n",
    "            if node is None:\n",
    "                continue\n",
    "            \n",
    "            if node.left == None and node.right == None:\n",
    "                return min_dep\n",
    "            \n",
    "            else:\n",
    "                cur_dep += 1\n",
    "                queue.append([node.left, cur_dep])\n",
    "                queue.append([node.right, cur_dep])\n",
    "        \n",
    "        return min_dep\n",
    "            "
   ]
  },
  {
   "cell_type": "code",
   "execution_count": null,
   "metadata": {},
   "outputs": [],
   "source": []
  }
 ],
 "metadata": {
  "kernelspec": {
   "display_name": "Python 3",
   "language": "python",
   "name": "python3"
  },
  "language_info": {
   "codemirror_mode": {
    "name": "ipython",
    "version": 3
   },
   "file_extension": ".py",
   "mimetype": "text/x-python",
   "name": "python",
   "nbconvert_exporter": "python",
   "pygments_lexer": "ipython3",
   "version": "3.9.0"
  }
 },
 "nbformat": 4,
 "nbformat_minor": 4
}
