{
 "cells": [
  {
   "cell_type": "markdown",
   "metadata": {},
   "source": [
    "### 判斷某個題目是 DP：\n",
    "1. 通常是 optimization problem: max, min,...etc\n",
    "2. subproblem 有 overlap\n",
    "3. 有 optimal substructure (問題的最佳解，是子問題最佳解的組合） (第 i 個位置的值和前面的結果有關係）\n"
   ]
  },
  {
   "cell_type": "markdown",
   "metadata": {},
   "source": [
    "### [198. House Robber](https://leetcode.com/problems/house-robber/)\n",
    "和爬梯子很像\n",
    "1. 先找 subproblem\n",
    "2. 寫出轉移式\n",
    "3. 注意 base case"
   ]
  },
  {
   "cell_type": "code",
   "execution_count": 2,
   "metadata": {},
   "outputs": [],
   "source": [
    "class Solution:\n",
    "    def rob(self, nums):\n",
    "        if nums == []:\n",
    "            return 0\n",
    "        \n",
    "        if len(nums) == 1:\n",
    "            return nums[0]\n",
    "        \n",
    "        nums = [0] + nums\n",
    "        r = [0] * len(nums)\n",
    "        \n",
    "        r[0] = nums[0]\n",
    "        r[1] = nums[1]\n",
    "        \n",
    "        for i in range(2, len(nums)):\n",
    "            r[i] = max(r[i-1], r[i-2] + nums[i])\n",
    "        "
   ]
  },
  {
   "cell_type": "markdown",
   "metadata": {},
   "source": [
    "### [718. Maximum Length of Repeated Subarray](https://leetcode.com/problems/maximum-length-of-repeated-subarray/)\n",
    "\n",
    "NOTE:  \n",
    "1. 2D array 可以用 [[]] implement\n",
    "2. 注意 dp[] 的 index 問題：固定記法：\n",
    "    * iter 維度 len + 1\n",
    "    * 原本的 list index - 1\n",
    "    * 填值時 index 不變 （以 dp 表的 index 為主）\n",
    "3. 記得 dp 表要空一行一列做 init"
   ]
  },
  {
   "cell_type": "code",
   "execution_count": 6,
   "metadata": {},
   "outputs": [],
   "source": [
    "class Solution:\n",
    "    def findLength(self, A, B) -> int:\n",
    "\n",
    "        '''\n",
    "        subproblem: A[:i] and B[:j]\n",
    "        \n",
    "        '''\n",
    "        \n",
    "        L = [[0 for _ in range(len(B) + 1)] for _ in range(len(A) + 1)]\n",
    "\n",
    "        for i in range(1, len(A)+1):\n",
    "            for j in range(1, len(B)+1):\n",
    "                \n",
    "                if A[i-1] == B[j-1]:\n",
    "                    L[i][j] = L[i-1][j-1] + 1\n",
    "        \n",
    "        return max(max(row) for row in L)"
   ]
  },
  {
   "cell_type": "code",
   "execution_count": 7,
   "metadata": {},
   "outputs": [
    {
     "data": {
      "text/plain": [
       "3"
      ]
     },
     "execution_count": 7,
     "metadata": {},
     "output_type": "execute_result"
    }
   ],
   "source": [
    "solu = Solution()\n",
    "\n",
    "A = [1,2,3,2,1]\n",
    "B = [3,2,1,4,7]\n",
    "ans = solu.findLength(A,B)\n",
    "ans"
   ]
  },
  {
   "cell_type": "markdown",
   "metadata": {},
   "source": [
    "### [152. Maximum Product Subarray](https://leetcode.com/problems/maximum-product-subarray/)\n",
    "* 相信自己對測資的觀察！\n",
    "* https://www.youtube.com/watch?v=0Kpz-ChuQIE\n",
    "* 因為第 i 個位置的 product和之前的 product 結果有關係，所以是 DP 題\n",
    "* 觀察第 i 個位置，他的最大乘積可能來自三種情況：\n",
    "    1. 前面的最大 x 自己, ex: nums[i] = 5, prev_max = 50 -> max = 50 x 5\n",
    "    2. 前面的最小 x 自己, ex: nums[i] = -5, prev_max = -50 -> max = -50 x -5\n",
    "    3. 自己, ex: nums[i] = 100, prev_max = -5 -> max = 100 (重新開始）\n",
    "* 由上述觀察可知，在 iter 過程中要記錄目前最大和目前最小，並且從這三種情況找 max。\n",
    "    "
   ]
  },
  {
   "cell_type": "code",
   "execution_count": 2,
   "metadata": {},
   "outputs": [],
   "source": [
    "class Solution:\n",
    "    def maxProduct(self, nums) -> int:\n",
    "        if nums == [] or nums == [0]:\n",
    "             return 0\n",
    "        \n",
    "        ans = nums[0]\n",
    "        prev_max = nums[0]\n",
    "        prev_min = nums[0]\n",
    "\n",
    "        for n in nums[1:]:\n",
    "            temp = prev_max\n",
    "            prev_max = max(prev_max*n, prev_min*n, n)\n",
    "            prev_min = min(temp*n, prev_min*n, n)\n",
    "            \n",
    "            ans = max(ans, prev_max)\n",
    "        \n",
    "        return ans"
   ]
  },
  {
   "cell_type": "code",
   "execution_count": 3,
   "metadata": {},
   "outputs": [
    {
     "data": {
      "text/plain": [
       "True"
      ]
     },
     "execution_count": 3,
     "metadata": {},
     "output_type": "execute_result"
    }
   ],
   "source": [
    "solu = Solution()\n",
    "ans = solu.maxProduct([2,3,-2,4])\n",
    "ans == 6"
   ]
  },
  {
   "cell_type": "code",
   "execution_count": null,
   "metadata": {},
   "outputs": [],
   "source": []
  },
  {
   "cell_type": "markdown",
   "metadata": {},
   "source": [
    "### [338. Counting Bits](https://leetcode.com/problems/counting-bits/)\n",
    "* 觀察數字的 binary 形式，只要數字是 2 的次方，bit 是 1 的數量就是 1，我們把這樣的數記為 nearest。\n",
    "* 在 nearest 之後，最左位數之後的 binary 都會是前面的 pattern，因此可以直接 call 之前的結果。  \n",
    "\n",
    "<div align=\"left\">\n",
    "<img src=img/DP.jpg width=200x >\n",
    "</div>  \n",
    "\n",
    "* python 中檢查數字是不是 2 的次方： https://www.geeksforgeeks.org/program-to-find-whether-a-no-is-power-of-two/   \n",
    "O(1) 的方法：檢查 n 和 n-1 的 bitwise AND (&), 假如是 0 ， n 就是 2 的次方。Ex: 3 = 11, 4 = 100"
   ]
  },
  {
   "cell_type": "code",
   "execution_count": 3,
   "metadata": {},
   "outputs": [],
   "source": [
    "class Solution:\n",
    "    def countBits(self, num):\n",
    "        \n",
    "        ans = [0] * (num+1)\n",
    "        \n",
    "        nearest = 0\n",
    "        for i in range(1, num+1):\n",
    "            if i & (i-1) == 0:\n",
    "                nearest = i\n",
    "                \n",
    "            ans[i] = ans[i-nearest] + 1\n",
    "        \n",
    "        return ans\n",
    "                "
   ]
  },
  {
   "cell_type": "code",
   "execution_count": 4,
   "metadata": {},
   "outputs": [
    {
     "data": {
      "text/plain": [
       "[0, 1, 1, 2, 1, 2]"
      ]
     },
     "execution_count": 4,
     "metadata": {},
     "output_type": "execute_result"
    }
   ],
   "source": [
    "solu = Solution()\n",
    "ans = solu.countBits(5)\n",
    "ans"
   ]
  },
  {
   "cell_type": "markdown",
   "metadata": {},
   "source": [
    "### [5. Longest Palindromic Substring](https://leetcode.com/problems/longest-palindromic-substring/)\n",
    "* Reference: http://web.ntnu.edu.tw/~algo/Palindrome.html \n",
    "* 設 input 為 A，使用左右各一個 index, 則 subproblem = A[i, j]，會有三種情況：\n",
    "    1. A[i] == A[j]，代表可形成 palindrome，則繼續往下尋找，各自往內縮一格\n",
    "    2. 不相等，左邊往內縮的結果比較好（substring 比較長）\n",
    "    3. 不相等，右邊往內縮的結果比較好\n",
    "* 初始位置： i = 0, j = len(A)-1。\n",
    "* 終止條件： j < i"
   ]
  },
  {
   "cell_type": "code",
   "execution_count": null,
   "metadata": {},
   "outputs": [],
   "source": []
  }
 ],
 "metadata": {
  "kernelspec": {
   "display_name": "Python 3",
   "language": "python",
   "name": "python3"
  },
  "language_info": {
   "codemirror_mode": {
    "name": "ipython",
    "version": 3
   },
   "file_extension": ".py",
   "mimetype": "text/x-python",
   "name": "python",
   "nbconvert_exporter": "python",
   "pygments_lexer": "ipython3",
   "version": "3.9.0"
  }
 },
 "nbformat": 4,
 "nbformat_minor": 4
}
