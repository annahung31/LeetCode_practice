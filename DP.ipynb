{
 "cells": [
  {
   "cell_type": "markdown",
   "metadata": {},
   "source": [
    "### 判斷某個題目是 DP：\n",
    "1. 通常是 optimization problem: max, min,...etc\n",
    "2. subproblem 有 overlap\n",
    "3. 有 optimal substructure (問題的最佳解，是子問題最佳解的組合）\n"
   ]
  },
  {
   "cell_type": "markdown",
   "metadata": {},
   "source": [
    "### [198. House Robber](https://leetcode.com/problems/house-robber/)\n",
    "和爬梯子很像\n",
    "1. 先找 subproblem\n",
    "2. 寫出轉移式\n",
    "3. 注意 base case"
   ]
  },
  {
   "cell_type": "code",
   "execution_count": 2,
   "metadata": {},
   "outputs": [],
   "source": [
    "class Solution:\n",
    "    def rob(self, nums):\n",
    "        if nums == []:\n",
    "            return 0\n",
    "        \n",
    "        if len(nums) == 1:\n",
    "            return nums[0]\n",
    "        \n",
    "        nums = [0] + nums\n",
    "        r = [0] * len(nums)\n",
    "        \n",
    "        r[0] = nums[0]\n",
    "        r[1] = nums[1]\n",
    "        \n",
    "        for i in range(2, len(nums)):\n",
    "            r[i] = max(r[i-1], r[i-2] + nums[i])\n",
    "        "
   ]
  },
  {
   "cell_type": "markdown",
   "metadata": {},
   "source": [
    "### [718. Maximum Length of Repeated Subarray](https://leetcode.com/problems/maximum-length-of-repeated-subarray/)\n",
    "\n",
    "NOTE:  \n",
    "1. 2D array 可以用 [[]] implement\n",
    "2. 注意 dp[] 的 index 問題：固定記法：\n",
    "    * iter 維度 len + 1\n",
    "    * 原本的 list index - 1\n",
    "    * 填值時 index 不變 （以 dp 表的 index 為主）\n",
    "3. 記得 dp 表要空一行一列做 init"
   ]
  },
  {
   "cell_type": "code",
   "execution_count": 6,
   "metadata": {},
   "outputs": [],
   "source": [
    "class Solution:\n",
    "    def findLength(self, A, B) -> int:\n",
    "\n",
    "        '''\n",
    "        subproblem: A[:i] and B[:j]\n",
    "        \n",
    "        '''\n",
    "        \n",
    "        L = [[0 for _ in range(len(B) + 1)] for _ in range(len(A) + 1)]\n",
    "\n",
    "        for i in range(1, len(A)+1):\n",
    "            for j in range(1, len(B)+1):\n",
    "                \n",
    "                if A[i-1] == B[j-1]:\n",
    "                    L[i][j] = L[i-1][j-1] + 1\n",
    "        \n",
    "        return max(max(row) for row in L)"
   ]
  },
  {
   "cell_type": "code",
   "execution_count": 7,
   "metadata": {},
   "outputs": [
    {
     "data": {
      "text/plain": [
       "3"
      ]
     },
     "execution_count": 7,
     "metadata": {},
     "output_type": "execute_result"
    }
   ],
   "source": [
    "solu = Solution()\n",
    "\n",
    "A = [1,2,3,2,1]\n",
    "B = [3,2,1,4,7]\n",
    "ans = solu.findLength(A,B)\n",
    "ans"
   ]
  },
  {
   "cell_type": "markdown",
   "metadata": {},
   "source": [
    "### [152. Maximum Product Subarray](https://leetcode.com/problems/maximum-product-subarray/)\n",
    "* 相信自己對測資的觀察！\n",
    "* https://www.youtube.com/watch?v=0Kpz-ChuQIE\n",
    "1. 假如裡面都沒有 0 或 負數，則答案就是nums 乘到最後\n",
    "2. 假如有負數：\n",
    "    a. 只有一個負數：max(prefix product, subfix product)\n",
    "    b. 基數個負數：\n",
    "    b. 偶數個負數：還是可以連乘\n",
    "    \n",
    "    "
   ]
  },
  {
   "cell_type": "code",
   "execution_count": null,
   "metadata": {},
   "outputs": [],
   "source": []
  },
  {
   "cell_type": "code",
   "execution_count": null,
   "metadata": {},
   "outputs": [],
   "source": []
  },
  {
   "cell_type": "code",
   "execution_count": null,
   "metadata": {},
   "outputs": [],
   "source": []
  }
 ],
 "metadata": {
  "kernelspec": {
   "display_name": "Python 3",
   "language": "python",
   "name": "python3"
  },
  "language_info": {
   "codemirror_mode": {
    "name": "ipython",
    "version": 3
   },
   "file_extension": ".py",
   "mimetype": "text/x-python",
   "name": "python",
   "nbconvert_exporter": "python",
   "pygments_lexer": "ipython3",
   "version": "3.7.3"
  }
 },
 "nbformat": 4,
 "nbformat_minor": 4
}
