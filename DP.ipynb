{
 "cells": [
  {
   "cell_type": "markdown",
   "metadata": {},
   "source": [
    "### [198. House Robber](https://leetcode.com/problems/house-robber/)\n",
    "和爬梯子很像\n",
    "1. 先找 subproblem\n",
    "2. 寫出轉移式\n",
    "3. 注意 base case"
   ]
  },
  {
   "cell_type": "code",
   "execution_count": 2,
   "metadata": {},
   "outputs": [],
   "source": [
    "class Solution:\n",
    "    def rob(self, nums):\n",
    "        if nums == []:\n",
    "            return 0\n",
    "        \n",
    "        if len(nums) == 1:\n",
    "            return nums[0]\n",
    "        \n",
    "        nums = [0] + nums\n",
    "        r = [0] * len(nums)\n",
    "        \n",
    "        r[0] = nums[0]\n",
    "        r[1] = nums[1]\n",
    "        \n",
    "        for i in range(2, len(nums)):\n",
    "            r[i] = max(r[i-1], r[i-2] + nums[i])\n",
    "        "
   ]
  },
  {
   "cell_type": "code",
   "execution_count": null,
   "metadata": {},
   "outputs": [],
   "source": []
  }
 ],
 "metadata": {
  "kernelspec": {
   "display_name": "Python 3",
   "language": "python",
   "name": "python3"
  },
  "language_info": {
   "codemirror_mode": {
    "name": "ipython",
    "version": 3
   },
   "file_extension": ".py",
   "mimetype": "text/x-python",
   "name": "python",
   "nbconvert_exporter": "python",
   "pygments_lexer": "ipython3",
   "version": "3.6.10"
  }
 },
 "nbformat": 4,
 "nbformat_minor": 4
}
