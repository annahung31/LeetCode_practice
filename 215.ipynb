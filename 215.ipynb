{
 "cells": [
  {
   "cell_type": "code",
   "execution_count": 20,
   "metadata": {},
   "outputs": [],
   "source": [
    "\n",
    "\n",
    "        \n",
    "        "
   ]
  },
  {
   "cell_type": "code",
   "execution_count": null,
   "metadata": {},
   "outputs": [],
   "source": []
  },
  {
   "cell_type": "code",
   "execution_count": null,
   "metadata": {},
   "outputs": [],
   "source": []
  },
  {
   "cell_type": "code",
   "execution_count": 27,
   "metadata": {},
   "outputs": [],
   "source": []
  },
  {
   "cell_type": "code",
   "execution_count": 38,
   "metadata": {},
   "outputs": [],
   "source": [
    "import math\n",
    "class Solution(object):\n",
    "    def findKthLargest(self, nums, k):\n",
    "        \"\"\"\n",
    "        :type nums: List[int]\n",
    "        :type k: int\n",
    "        :rtype: int\n",
    "        \"\"\"\n",
    "        _len = len(nums)\n",
    "        mediums = []\n",
    "\n",
    "        if k <= _len:\n",
    "            n_group = int(math.ceil(_len /5.0))\n",
    "            \n",
    "            for i in range(0, n_group-1):\n",
    "                a_group = nums[i*5:(i+1)*5]\n",
    "                mediums.append(self.get_med(a_group))\n",
    "                \n",
    "            last_group = nums[(n_group-1)*5:]\n",
    "            mediums.append(self.get_med(last_group))\n",
    "            midOfMids = self.get_med(mediums)\n",
    "            print(midOfMids)\n",
    "            \n",
    "            pos = self.partition(nums, midOfMids)\n",
    "            \n",
    "        \n",
    "            \n",
    "        return 999999\n",
    "\n",
    "        \n",
    "    def partition(self, arr, midOfMids):\n",
    "        \n",
    "        mid_idx = arr.index(midOfMids)\n",
    "        for i in range(len(arr)):\n",
    "            if arr[i] < midOfMids:\n",
    "                arr = self.swap(arr, i, mid_idx)\n",
    "        \n",
    "        \n",
    "        return arr.index(midOfMids)\n",
    "    \n",
    "    \n",
    "    def get_med(self, arr):\n",
    "        arr.sort()\n",
    "        _len = len(arr)\n",
    "        return arr[_len//2]\n",
    "    \n",
    "    def swap(self, arr, a, b):\n",
    "        temp = arr[a]\n",
    "        arr[a] = arr[b]\n",
    "        arr[b] = temp\n",
    "        return arr"
   ]
  },
  {
   "cell_type": "code",
   "execution_count": 46,
   "metadata": {},
   "outputs": [
    {
     "name": "stdout",
     "output_type": "stream",
     "text": [
      "4\n"
     ]
    },
    {
     "data": {
      "text/plain": [
       "999999"
      ]
     },
     "execution_count": 46,
     "metadata": {},
     "output_type": "execute_result"
    }
   ],
   "source": [
    "nums = [3,2,1,5,6,4] \n",
    "k = 2\n",
    "sol = Solution()\n",
    "sol.findKthLargest(nums, k)"
   ]
  },
  {
   "cell_type": "code",
   "execution_count": 21,
   "metadata": {},
   "outputs": [],
   "source": [
    "nums = [3,2,1,5,6,4] \n",
    "def swap(arr, a, b):\n",
    "    temp = arr[a]\n",
    "    arr[a] = arr[b]\n",
    "    arr[b] = temp\n",
    "    return arr"
   ]
  },
  {
   "cell_type": "code",
   "execution_count": 23,
   "metadata": {},
   "outputs": [
    {
     "name": "stdout",
     "output_type": "stream",
     "text": [
      "[4, 2, 1, 3, 5, 6]\n",
      "4\n",
      "2\n",
      "1\n",
      "3\n",
      "5\n",
      "[5, 2, 1, 3, 4, 6]\n",
      "6\n",
      "[6, 2, 1, 3, 4, 5]\n"
     ]
    }
   ],
   "source": [
    "midOfMids = 4\n",
    "mid_idx = nums.index(midOfMids)\n",
    "\n",
    "for j in range(len(nums)):\n",
    "    if nums[j] == midOfMids:\n",
    "        nums = swap(nums, j, 0)\n",
    "        print(nums)\n",
    "        break\n",
    "\n",
    "for i in range(len(nums)):\n",
    "    print(nums[i])\n",
    "    if nums[i] > midOfMids:\n",
    "        nums = swap(nums, i, mid_idx)\n",
    "        print(nums)\n"
   ]
  },
  {
   "cell_type": "code",
   "execution_count": 19,
   "metadata": {},
   "outputs": [
    {
     "data": {
      "text/plain": [
       "[4, 2, 1, 3, 5, 6]"
      ]
     },
     "execution_count": 19,
     "metadata": {},
     "output_type": "execute_result"
    }
   ],
   "source": [
    "nums"
   ]
  },
  {
   "cell_type": "code",
   "execution_count": null,
   "metadata": {},
   "outputs": [],
   "source": []
  }
 ],
 "metadata": {
  "kernelspec": {
   "display_name": "Python 2",
   "language": "python",
   "name": "python2"
  },
  "language_info": {
   "codemirror_mode": {
    "name": "ipython",
    "version": 3
   },
   "file_extension": ".py",
   "mimetype": "text/x-python",
   "name": "python",
   "nbconvert_exporter": "python",
   "pygments_lexer": "ipython3",
   "version": "3.6.10"
  }
 },
 "nbformat": 4,
 "nbformat_minor": 4
}
