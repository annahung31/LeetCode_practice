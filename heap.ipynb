{
 "cells": [
  {
   "cell_type": "markdown",
   "metadata": {},
   "source": [
    "## Outline\n",
    "* [Introduction to heap](#intro)\n",
    "* [Basic operations](#op)\n",
    "* [python tool: heapq](#heapq)\n",
    "* [Leetcode 703. Kth Largest Element in a Stream](#703)"
   ]
  },
  {
   "cell_type": "markdown",
   "metadata": {},
   "source": [
    "<a id=\"intro\"></a>\n",
    "## Introduction to heap"
   ]
  },
  {
   "cell_type": "markdown",
   "metadata": {},
   "source": [
    "* 可以把 heap 看成是一棵接近平衡的 binary tree，implement 的時候是做成一個 array。    \n",
    "* 常見性質： \n",
    "       * 同一階層要由左到右排列，不能跳過\n",
    "       * parent/left/right\n",
    "       * length(array容量)\n",
    "       * heap-size(實際上有多少node)\n",
    "       * hight(看成tree時的高度)= THETA(lg n)\n",
    "* 常見種類： max-heap(parent >= child)/min-heap(parent <= child)  \n",
    "\n",
    "<img src=img/heap.png width=600x>"
   ]
  },
  {
   "cell_type": "markdown",
   "metadata": {},
   "source": [
    "<a id='op'></a>\n",
    "## Basic operations"
   ]
  },
  {
   "cell_type": "markdown",
   "metadata": {},
   "source": [
    "1. MAX-HEAPIFY\n",
    "    - 功能： insert 一個新數字後，維持 max-heap\n",
    "    - Time complexity: O(lg n)"
   ]
  },
  {
   "cell_type": "markdown",
   "metadata": {},
   "source": [
    "2. BUILD-MAX-HEAP\n",
    "    * 功能： init\n",
    "    * Time complexity: O(n)"
   ]
  },
  {
   "cell_type": "code",
   "execution_count": 153,
   "metadata": {},
   "outputs": [],
   "source": [
    "import sys\n",
    "class MaxHeap():\n",
    "    def __init__(self, maxsize):\n",
    "        self.size = 0\n",
    "        self.maxsize = maxsize\n",
    "        self.heap = [None]* (self.maxsize+1)\n",
    "        self.heap[0] = sys.maxsize\n",
    "    \n",
    "    def parent(self, pos):\n",
    "        return pos//2\n",
    "    \n",
    "    def left_child(self, pos):\n",
    "        \n",
    "        return pos * 2\n",
    "\n",
    "    def right_child(self, pos):\n",
    "        return pos *2 + 1\n",
    "    \n",
    "    def swap(self, a, b):\n",
    "        temp = self.heap[a]\n",
    "        self.heap[a] = self.heap[b]\n",
    "        self.heap[b] = temp\n",
    "    \n",
    "    def is_leaf(self, pos):\n",
    "        \n",
    "        if pos > self.size //2 and pos < self.size:\n",
    "            return True\n",
    "        else:\n",
    "            return False\n",
    "    \n",
    "    def max_heapify(self, pos):\n",
    "        \n",
    "        l = self.left_child(pos)\n",
    "        r = self.right_child(pos)\n",
    "        \n",
    "        if not self.is_leaf(pos):\n",
    "            \n",
    "            if self.heap[l] is not None and  l <= self.size and self.heap[l] > self.heap[pos]:\n",
    "                largest = l\n",
    "            else:\n",
    "                largest = pos\n",
    "            if self.heap[r] is not None and r <= self.size and self.heap[r] > self.heap[largest]:\n",
    "                largets = r\n",
    "        \n",
    "            if largest != pos:\n",
    "                self.swap(pos, largest)\n",
    "                self.max_heapify(largest)\n",
    "        \n",
    "    def insert(self, x):\n",
    "        if self.size >= self.maxsize:\n",
    "            return\n",
    "        self.size += 1\n",
    "        self.heap[self.size] = x\n",
    "        \n",
    "        current = self.size\n",
    "        while self.heap[current] > self.heap[self.parent(current)]:\n",
    "            self.swap(current, self.parent(current))\n",
    "            current = self.parent(current)\n",
    "    \n",
    "    def print_heap(self):\n",
    "        for i in range(1, self.size+1):\n",
    "            print(\n",
    "                  self.heap[i], \n",
    "                  'left child: ', self.heap[self.left_child(i)], \n",
    "                  'right child:', self.heap[self.right_child(i)]\n",
    "                  )\n",
    "    def pop_max(self):\n",
    "        _max = self.heap[1]\n",
    "        \n",
    "        self.swap(1, self.size)\n",
    "        self.heap[self.size] = None\n",
    "        self.size -= 1\n",
    "        self.max_heapify(1)\n",
    "        \n",
    "        return _max"
   ]
  },
  {
   "cell_type": "code",
   "execution_count": 161,
   "metadata": {},
   "outputs": [],
   "source": [
    "mheap = MaxHeap(15)"
   ]
  },
  {
   "cell_type": "code",
   "execution_count": 162,
   "metadata": {},
   "outputs": [],
   "source": [
    "mheap.insert(5)\n",
    "mheap.insert(3)\n",
    "mheap.insert(7)\n",
    "mheap.insert(2)\n",
    "mheap.insert(9)"
   ]
  },
  {
   "cell_type": "code",
   "execution_count": 163,
   "metadata": {},
   "outputs": [
    {
     "name": "stdout",
     "output_type": "stream",
     "text": [
      "9 left child:  7 right child: 5\n",
      "7 left child:  2 right child: 3\n",
      "5 left child:  None right child: None\n",
      "2 left child:  None right child: None\n",
      "3 left child:  None right child: None\n"
     ]
    }
   ],
   "source": [
    "mheap.print_heap()"
   ]
  },
  {
   "cell_type": "code",
   "execution_count": 164,
   "metadata": {},
   "outputs": [
    {
     "data": {
      "text/plain": [
       "9"
      ]
     },
     "execution_count": 164,
     "metadata": {},
     "output_type": "execute_result"
    }
   ],
   "source": [
    "mheap.pop_max()"
   ]
  },
  {
   "cell_type": "code",
   "execution_count": 165,
   "metadata": {},
   "outputs": [
    {
     "name": "stdout",
     "output_type": "stream",
     "text": [
      "7 left child:  3 right child: 5\n",
      "3 left child:  2 right child: None\n",
      "5 left child:  None right child: None\n",
      "2 left child:  None right child: None\n"
     ]
    }
   ],
   "source": [
    "mheap.print_heap()"
   ]
  },
  {
   "cell_type": "code",
   "execution_count": 166,
   "metadata": {},
   "outputs": [
    {
     "data": {
      "text/plain": [
       "7"
      ]
     },
     "execution_count": 166,
     "metadata": {},
     "output_type": "execute_result"
    }
   ],
   "source": [
    "mheap.pop_max()\n"
   ]
  },
  {
   "cell_type": "code",
   "execution_count": 168,
   "metadata": {},
   "outputs": [
    {
     "name": "stdout",
     "output_type": "stream",
     "text": [
      "3 left child:  2 right child: 5\n",
      "2 left child:  None right child: None\n",
      "5 left child:  None right child: None\n"
     ]
    }
   ],
   "source": [
    "mheap.print_heap()\n",
    "# 失敗了qq"
   ]
  },
  {
   "cell_type": "markdown",
   "metadata": {},
   "source": [
    "<a id='heapq'></a>\n",
    "## python 內建函式 heapq\n",
    "* 是維護 min-heap。\n",
    "* 若要使用 max-heap，可以將 input 都乘上負號，或者建一個 class。"
   ]
  },
  {
   "cell_type": "code",
   "execution_count": 169,
   "metadata": {},
   "outputs": [],
   "source": [
    "import heapq "
   ]
  },
  {
   "cell_type": "code",
   "execution_count": 195,
   "metadata": {},
   "outputs": [],
   "source": [
    "inputs = [6, 7, 9, 4, 3, 5, 8, 10, 1] "
   ]
  },
  {
   "cell_type": "code",
   "execution_count": 178,
   "metadata": {},
   "outputs": [],
   "source": [
    "# heapify\n",
    "heapq.heapify(inputs)"
   ]
  },
  {
   "cell_type": "code",
   "execution_count": 179,
   "metadata": {},
   "outputs": [
    {
     "data": {
      "text/plain": [
       "[12, 10, 9]"
      ]
     },
     "execution_count": 179,
     "metadata": {},
     "output_type": "execute_result"
    }
   ],
   "source": [
    "# get n largest items\n",
    "heapq.nlargest(3, inputs)"
   ]
  },
  {
   "cell_type": "code",
   "execution_count": 180,
   "metadata": {},
   "outputs": [
    {
     "data": {
      "text/plain": [
       "[1, 3, 4]"
      ]
     },
     "execution_count": 180,
     "metadata": {},
     "output_type": "execute_result"
    }
   ],
   "source": [
    "# get n smallest items\n",
    "heapq.nsmallest(3, inputs)"
   ]
  },
  {
   "cell_type": "code",
   "execution_count": 181,
   "metadata": {},
   "outputs": [],
   "source": [
    "# push\n",
    "heapq.heappush(inputs, 12)"
   ]
  },
  {
   "cell_type": "code",
   "execution_count": 182,
   "metadata": {},
   "outputs": [
    {
     "data": {
      "text/plain": [
       "[12, 12, 10]"
      ]
     },
     "execution_count": 182,
     "metadata": {},
     "output_type": "execute_result"
    }
   ],
   "source": [
    "heapq.nlargest(3, inputs)"
   ]
  },
  {
   "cell_type": "code",
   "execution_count": 184,
   "metadata": {},
   "outputs": [
    {
     "data": {
      "text/plain": [
       "1"
      ]
     },
     "execution_count": 184,
     "metadata": {},
     "output_type": "execute_result"
    }
   ],
   "source": [
    "# pop smallest item\n",
    "heapq.heappop(inputs)"
   ]
  },
  {
   "cell_type": "markdown",
   "metadata": {},
   "source": [
    "### max-heap"
   ]
  },
  {
   "cell_type": "code",
   "execution_count": 204,
   "metadata": {},
   "outputs": [
    {
     "data": {
      "text/plain": [
       "[-6, -7, -9, -4, -3, -5, -8, -10, -1]"
      ]
     },
     "execution_count": 204,
     "metadata": {},
     "output_type": "execute_result"
    }
   ],
   "source": [
    "\n",
    "inputs_neg = [ -1 * x for x in inputs]\n",
    "inputs_neg"
   ]
  },
  {
   "cell_type": "code",
   "execution_count": 205,
   "metadata": {},
   "outputs": [
    {
     "data": {
      "text/plain": [
       "10"
      ]
     },
     "execution_count": 205,
     "metadata": {},
     "output_type": "execute_result"
    }
   ],
   "source": [
    "heapq.heapify(inputs_neg)\n",
    "pop_max = -1 * (heapq.heappop(inputs_neg))\n",
    "pop_max"
   ]
  },
  {
   "cell_type": "code",
   "execution_count": null,
   "metadata": {},
   "outputs": [],
   "source": []
  },
  {
   "cell_type": "markdown",
   "metadata": {},
   "source": [
    "<a id=\"703\"></a>\n",
    "## Leetcode 703. Kth Largest Element in a Stream\n",
    "* init: 只儲存前 k 大的數字，把剩下的 pop 掉。\n",
    "* 當新加入一個 val ，若 val 比目前最小還小，則不會更改答案和 heap；若比較大，則替換掉 heap 中最小的，並 return 目前第 ｋ 大（即目前最小）\n",
    "* Reference: [heapq 的使用](https://www.geeksforgeeks.org/heap-queue-or-heapq-in-python/)"
   ]
  },
  {
   "cell_type": "code",
   "execution_count": null,
   "metadata": {},
   "outputs": [],
   "source": [
    "class KthLargest:\n",
    "\n",
    "    def __init__(self, k: int, nums: List[int]):\n",
    "        self.k = k\n",
    "        self.nums = nums\n",
    "        heapq.heapify(self.nums)\n",
    "        \n",
    "        while len(self.nums) > k:\n",
    "            heapq.heappop(self.nums)\n",
    "            \n",
    "            \n",
    "    def add(self, val: int) -> int:\n",
    "        if len(self.nums) < self.k:\n",
    "            heapq.heappush(self.nums, val)\n",
    "            \n",
    "        elif val > self.nums[0]:\n",
    "            heapq.heapreplace(self.nums, val)\n",
    "\n",
    "            \n",
    "        return self.nums[0]"
   ]
  }
 ],
 "metadata": {
  "kernelspec": {
   "display_name": "Python 3",
   "language": "python",
   "name": "python3"
  },
  "language_info": {
   "codemirror_mode": {
    "name": "ipython",
    "version": 3
   },
   "file_extension": ".py",
   "mimetype": "text/x-python",
   "name": "python",
   "nbconvert_exporter": "python",
   "pygments_lexer": "ipython3",
   "version": "3.7.3"
  }
 },
 "nbformat": 4,
 "nbformat_minor": 4
}
