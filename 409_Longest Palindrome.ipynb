{
 "cells": [
  {
   "cell_type": "code",
   "execution_count": 1,
   "metadata": {},
   "outputs": [],
   "source": [
    "\n",
    "class Solution:\n",
    "    def longestPalindrome(self, s: str) -> int:\n",
    "        \n",
    "        exists = set()\n",
    "        \n",
    "        for c in s:\n",
    "            if c in exists:\n",
    "                exists.remove(c)\n",
    "            else:\n",
    "                exists.add(c)\n",
    "        \n",
    "        return len(s) - len(exists) + 1 if exists else len(s)\n",
    "        \n",
    "        \n",
    "        "
   ]
  },
  {
   "cell_type": "markdown",
   "metadata": {},
   "source": [
    "### Thought"
   ]
  },
  {
   "cell_type": "markdown",
   "metadata": {},
   "source": [
    "1. 把 s 中的 character 分成兩種：奇數個/偶數個\n",
    "2. 如果是偶數個，必成夠形成回文, 如果是奇數個，只要拿其中一個來當中間。\n",
    "3. len(exists) 是 s 中有奇數個的字母。\n"
   ]
  },
  {
   "cell_type": "code",
   "execution_count": null,
   "metadata": {},
   "outputs": [],
   "source": []
  }
 ],
 "metadata": {
  "kernelspec": {
   "display_name": "Python 3",
   "language": "python",
   "name": "python3"
  },
  "language_info": {
   "codemirror_mode": {
    "name": "ipython",
    "version": 3
   },
   "file_extension": ".py",
   "mimetype": "text/x-python",
   "name": "python",
   "nbconvert_exporter": "python",
   "pygments_lexer": "ipython3",
   "version": "3.8.5"
  }
 },
 "nbformat": 4,
 "nbformat_minor": 4
}
